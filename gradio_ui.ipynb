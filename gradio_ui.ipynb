{
  "nbformat": 4,
  "nbformat_minor": 0,
  "metadata": {
    "colab": {
      "provenance": [],
      "gpuType": "T4",
      "include_colab_link": true
    },
    "kernelspec": {
      "name": "python3",
      "display_name": "Python 3"
    },
    "language_info": {
      "name": "python"
    },
    "accelerator": "GPU"
  },
  "cells": [
    {
      "cell_type": "markdown",
      "metadata": {
        "id": "view-in-github",
        "colab_type": "text"
      },
      "source": [
        "<a href=\"https://colab.research.google.com/github/jackma-00/peft-of-a-llm/blob/main/gradio_ui.ipynb\" target=\"_parent\"><img src=\"https://colab.research.google.com/assets/colab-badge.svg\" alt=\"Open In Colab\"/></a>"
      ]
    },
    {
      "cell_type": "code",
      "source": [
        "%%capture\n",
        "!pip install gradio huggingface-hub==0.25.2\n",
        "!pip install unsloth\n"
      ],
      "metadata": {
        "id": "7InF81lfXaoK"
      },
      "execution_count": 7,
      "outputs": []
    },
    {
      "cell_type": "code",
      "source": [
        "\n",
        "!pip install -U polygon-api-client"
      ],
      "metadata": {
        "id": "Nhdwu1DG2hQE",
        "outputId": "58a4c05a-524c-4a19-c5b2-93f54bcbb0bf",
        "colab": {
          "base_uri": "https://localhost:8080/"
        }
      },
      "execution_count": 8,
      "outputs": [
        {
          "output_type": "stream",
          "name": "stdout",
          "text": [
            "Collecting polygon-api-client\n",
            "  Downloading polygon_api_client-1.14.2-py3-none-any.whl.metadata (889 bytes)\n",
            "Requirement already satisfied: certifi<2025.0.0,>=2022.5.18 in /usr/local/lib/python3.10/dist-packages (from polygon-api-client) (2024.8.30)\n",
            "Requirement already satisfied: urllib3<3.0.0,>=1.26.9 in /usr/local/lib/python3.10/dist-packages (from polygon-api-client) (2.2.3)\n",
            "Requirement already satisfied: websockets<13.0,>=10.3 in /usr/local/lib/python3.10/dist-packages (from polygon-api-client) (12.0)\n",
            "Downloading polygon_api_client-1.14.2-py3-none-any.whl (40 kB)\n",
            "\u001b[?25l   \u001b[90m━━━━━━━━━━━━━━━━━━━━━━━━━━━━━━━━━━━━━━━━\u001b[0m \u001b[32m0.0/40.6 kB\u001b[0m \u001b[31m?\u001b[0m eta \u001b[36m-:--:--\u001b[0m\r\u001b[2K   \u001b[90m━━━━━━━━━━━━━━━━━━━━━━━━━━━━━━━━━━━━━━━━\u001b[0m \u001b[32m40.6/40.6 kB\u001b[0m \u001b[31m2.2 MB/s\u001b[0m eta \u001b[36m0:00:00\u001b[0m\n",
            "\u001b[?25hInstalling collected packages: polygon-api-client\n",
            "Successfully installed polygon-api-client-1.14.2\n"
          ]
        }
      ]
    },
    {
      "cell_type": "code",
      "source": [
        "from polygon import RESTClient\n",
        "import json\n",
        "\n",
        "# Your Polygon API Key\n",
        "client = RESTClient(api_key=\"l3Ae5NltOnv2MqCVkfs62CSIKzWs_Z6H\")\n",
        "\n",
        "# List of tickers to track\n",
        "tickers = [\"SPY\", \"DIA\", \"QQQ\", \"IWM\", \"VXX\"]\n",
        "\n",
        "# Collect data in a structured format\n",
        "data = []\n",
        "\n",
        "for ticker in tickers:\n",
        "    quote = client.get_previous_close_agg(ticker=ticker)\n",
        "\n",
        "    # Access attributes directly from the first result\n",
        "    formatted_quote = {\n",
        "        \"ticker\": quote[0].ticker,\n",
        "        \"open\": quote[0].open,\n",
        "        \"high\": quote[0].high,\n",
        "        \"low\": quote[0].low,\n",
        "        \"close\": quote[0].close,\n",
        "        \"volume\": quote[0].volume,\n",
        "        \"timestamp\": quote[0].timestamp,\n",
        "        \"vwap\": quote[0].vwap,\n",
        "    }\n",
        "    data.append(formatted_quote)\n",
        "\n",
        "# Convert the data to a JSON string for LLM analysis\n",
        "formatted_data = json.dumps(data, indent=4)\n",
        "#print(formatted_data)"
      ],
      "metadata": {
        "id": "7rbFDmLF2iEt"
      },
      "execution_count": 9,
      "outputs": []
    },
    {
      "cell_type": "code",
      "execution_count": null,
      "metadata": {
        "colab": {
          "base_uri": "https://localhost:8080/",
          "height": 784
        },
        "id": "MG89E2wRXPnZ",
        "outputId": "70dd09db-d4f3-45b2-cf49-f2722e03a55e"
      },
      "outputs": [
        {
          "output_type": "stream",
          "name": "stdout",
          "text": [
            "==((====))==  Unsloth 2024.11.11: Fast Llama patching. Transformers:4.46.2.\n",
            "   \\\\   /|    GPU: Tesla T4. Max memory: 14.748 GB. Platform: Linux.\n",
            "O^O/ \\_/ \\    Torch: 2.5.1+cu121. CUDA: 7.5. CUDA Toolkit: 12.1. Triton: 3.1.0\n",
            "\\        /    Bfloat16 = FALSE. FA [Xformers = 0.0.28.post3. FA2 = False]\n",
            " \"-____-\"     Free Apache license: http://github.com/unslothai/unsloth\n",
            "Unsloth: Fast downloading is enabled - ignore downloading bars which are red colored!\n"
          ]
        },
        {
          "output_type": "stream",
          "name": "stderr",
          "text": [
            "/usr/local/lib/python3.10/dist-packages/gradio/components/chatbot.py:225: UserWarning: You have not specified a value for the `type` parameter. Defaulting to the 'tuples' format for chatbot messages, but this is deprecated and will be removed in a future version of Gradio. Please set type='messages' instead, which uses openai-style 'role' and 'content' keys.\n",
            "  warnings.warn(\n"
          ]
        },
        {
          "output_type": "stream",
          "name": "stdout",
          "text": [
            "Running Gradio in a Colab notebook requires sharing enabled. Automatically setting `share=True` (you can turn this off by setting `share=False` in `launch()` explicitly).\n",
            "\n",
            "Colab notebook detected. This cell will run indefinitely so that you can see errors and logs. To turn off, set debug=False in launch().\n",
            "* Running on public URL: https://6729a59d1789dfdd9d.gradio.live\n",
            "\n",
            "This share link expires in 72 hours. For free permanent hosting and GPU upgrades, run `gradio deploy` from the terminal in the working directory to deploy to Hugging Face Spaces (https://huggingface.co/spaces)\n"
          ]
        },
        {
          "output_type": "display_data",
          "data": {
            "text/plain": [
              "<IPython.core.display.HTML object>"
            ],
            "text/html": [
              "<div><iframe src=\"https://6729a59d1789dfdd9d.gradio.live\" width=\"100%\" height=\"500\" allow=\"autoplay; camera; microphone; clipboard-read; clipboard-write;\" frameborder=\"0\" allowfullscreen></iframe></div>"
            ]
          },
          "metadata": {}
        }
      ],
      "source": [
        "import gradio as gr\n",
        "import torch\n",
        "from threading import Thread\n",
        "from unsloth import FastLanguageModel\n",
        "from transformers import AutoTokenizer, TextStreamer, TextIteratorStreamer\n",
        "\n",
        "\n",
        "# Fine-tuned Huggingface hosted model\n",
        "model_name = \"jackma-00/lora_model_1b\"\n",
        "\n",
        "# Model's parameters\n",
        "max_seq_length = 2048\n",
        "dtype = None\n",
        "load_in_4bit = True\n",
        "system_message = \"You are a financial consultant. Answer your client's questions using yesterday's closing aggregates for the following key tickers: {}\".format(formatted_data)\n",
        "max_tokens = 1024\n",
        "temperature = 1.5\n",
        "top_p = 0.95\n",
        "\n",
        "# Load model and tokenizer from pretrained\n",
        "model, tokenizer = FastLanguageModel.from_pretrained(\n",
        "    model_name=model_name,\n",
        "    max_seq_length=max_seq_length,\n",
        "    dtype=dtype,\n",
        "    load_in_4bit=load_in_4bit,\n",
        ")\n",
        "\n",
        "# Enable native 2x faster inference\n",
        "FastLanguageModel.for_inference(model)\n",
        "\n",
        "# Create a text streamer\n",
        "text_streamer = TextIteratorStreamer(tokenizer, timeout=10., skip_prompt=True, skip_special_tokens=True)\n",
        "\n",
        "\n",
        "# Define inference function\n",
        "def respond(message, history):\n",
        "\n",
        "    # Add system message\n",
        "    messages = [{\"role\": \"system\", \"content\": system_message}]\n",
        "\n",
        "    # Include chat history\n",
        "    for val in history:\n",
        "        if val[0]:\n",
        "            messages.append({\"role\": \"user\", \"content\": val[0]})\n",
        "        if val[1]:\n",
        "            messages.append({\"role\": \"assistant\", \"content\": val[1]})\n",
        "\n",
        "    # Lastly append user's message\n",
        "    messages.append({\"role\": \"user\", \"content\": message})\n",
        "\n",
        "    # Tokenize the input\n",
        "    inputs = tokenizer.apply_chat_template(\n",
        "        messages,\n",
        "        tokenize = True,\n",
        "        add_generation_prompt = True,\n",
        "        return_tensors = \"pt\",\n",
        "    ).to(\"cuda\")\n",
        "\n",
        "    # Generate arguments\n",
        "    generate_kwargs = dict(\n",
        "        input_ids=inputs,\n",
        "        streamer=text_streamer,\n",
        "        max_new_tokens=max_tokens,\n",
        "        use_cache=True,\n",
        "        temperature=temperature,\n",
        "        top_p=top_p,\n",
        "    )\n",
        "    t = Thread(target=model.generate, kwargs=generate_kwargs)\n",
        "    t.start()\n",
        "\n",
        "    # Predict\n",
        "    partial_message = \"\"\n",
        "    for new_token in text_streamer:\n",
        "        if new_token != '<':\n",
        "            partial_message += new_token\n",
        "            yield partial_message\n",
        "\n",
        "\n",
        "# Define Gradio UI\n",
        "gr = gr.ChatInterface(\n",
        "    respond,\n",
        "    chatbot=gr.Chatbot(height=300),\n",
        "    textbox=gr.Textbox(placeholder=\"Ask me financial guidance\", container=False, scale=7),\n",
        "    title=\"Your financial consultant\",\n",
        "    description=\"Ask anything regarding finance, I will respond you based on the latest closing of major key tickets\",\n",
        "    theme=\"soft\",\n",
        "    examples=[\"Should I invest in gold today?\", \"How can I allocate additional 10k to my portfolio?\", \"What could be a good diversification strategy?\"],\n",
        ")\n",
        "\n",
        "if __name__ == \"__main__\":\n",
        "    gr.launch(debug=True)\n"
      ]
    }
  ]
}